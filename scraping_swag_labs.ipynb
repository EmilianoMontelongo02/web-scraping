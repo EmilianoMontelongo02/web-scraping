{
 "cells": [
  {
   "cell_type": "markdown",
   "id": "dc47b205-1c99-4db0-8eb4-54c89aeb7708",
   "metadata": {},
   "source": [
    "# WEB SCRAPING"
   ]
  },
  {
   "cell_type": "markdown",
   "id": "88526513-d039-45aa-b52b-2819d9126eda",
   "metadata": {},
   "source": [
    "Web scraping a tienda de pruebas Swag Lab c:\n"
   ]
  },
  {
   "cell_type": "markdown",
   "id": "873c8038-6d19-4f5e-b80c-2b0ae0f5216b",
   "metadata": {},
   "source": [
    "# Importaciones"
   ]
  },
  {
   "cell_type": "code",
   "execution_count": 1,
   "id": "09584b43-cc5b-4c6d-863e-133b23f5f41f",
   "metadata": {},
   "outputs": [],
   "source": [
    "from selenium import webdriver\n",
    "from selenium.webdriver.common.by import By\n",
    "from selenium.common.exceptions import NoSuchElementException\n",
    "import pandas as pd"
   ]
  },
  {
   "cell_type": "code",
   "execution_count": 2,
   "id": "b5e565f0-e9b2-41ed-a8c0-7f1c3cc21590",
   "metadata": {},
   "outputs": [],
   "source": [
    "driver = webdriver.Chrome()"
   ]
  },
  {
   "cell_type": "code",
   "execution_count": 3,
   "id": "aadc93e5-7784-4865-8de6-4dbf6440f29f",
   "metadata": {},
   "outputs": [],
   "source": [
    "url = 'https://www.saucedemo.com/'\n",
    "driver.get(url)"
   ]
  },
  {
   "cell_type": "markdown",
   "id": "32c3cf03-ca9a-4b63-8e54-3fa6f1d4dea1",
   "metadata": {},
   "source": [
    "## LOGIN \n"
   ]
  },
  {
   "cell_type": "code",
   "execution_count": 4,
   "id": "5bacac80-0180-4073-9212-07029b564e4f",
   "metadata": {},
   "outputs": [],
   "source": [
    "input_username = driver.find_element(By.ID, \"user-name\")"
   ]
  },
  {
   "cell_type": "code",
   "execution_count": 5,
   "id": "769f326f-1910-4a25-9b04-d2661b8fa5e9",
   "metadata": {},
   "outputs": [],
   "source": [
    "container_username = driver.find_element(By.XPATH, '//*[@id=\"login_credentials\"]')"
   ]
  },
  {
   "cell_type": "code",
   "execution_count": 6,
   "id": "0bb167a7-361d-4e9e-9e96-ee6f7ff52f8f",
   "metadata": {},
   "outputs": [],
   "source": [
    "split_container_username = container_username.text.split(\"\\n\")"
   ]
  },
  {
   "cell_type": "code",
   "execution_count": 7,
   "id": "e55421ec-b187-4f5c-af72-6110c5edc4b0",
   "metadata": {},
   "outputs": [],
   "source": [
    "user_name = split_container_username[1]"
   ]
  },
  {
   "cell_type": "code",
   "execution_count": 8,
   "id": "9d39be3a-f7ea-4f02-95f2-7bcafd1e6404",
   "metadata": {},
   "outputs": [],
   "source": [
    "input_username.send_keys(user_name)"
   ]
  },
  {
   "cell_type": "code",
   "execution_count": 9,
   "id": "1048954e-4e03-40a3-91d6-30a452fc7863",
   "metadata": {},
   "outputs": [],
   "source": [
    "input_password = driver.find_element(By.ID, \"password\")"
   ]
  },
  {
   "cell_type": "code",
   "execution_count": 10,
   "id": "708d5922-a1ff-47ba-b424-5b577a365648",
   "metadata": {},
   "outputs": [],
   "source": [
    "container_password = driver.find_element(By.XPATH, '//*[@id=\"root\"]/div/div[2]/div[2]/div/div[2]')"
   ]
  },
  {
   "cell_type": "code",
   "execution_count": 11,
   "id": "40d4c35c-6cef-4d28-9434-d4f93ddf3478",
   "metadata": {},
   "outputs": [],
   "source": [
    "split_container_password = container_password.text.split(\"\\n\")"
   ]
  },
  {
   "cell_type": "code",
   "execution_count": 12,
   "id": "05fd6581-ab9c-434d-8664-5197e0114230",
   "metadata": {},
   "outputs": [],
   "source": [
    "password = split_container_password[1]"
   ]
  },
  {
   "cell_type": "code",
   "execution_count": 13,
   "id": "2a21cc1e-c407-41e5-bae3-c7c882647a1a",
   "metadata": {},
   "outputs": [],
   "source": [
    "input_password.send_keys(password)"
   ]
  },
  {
   "cell_type": "code",
   "execution_count": 14,
   "id": "af2e11ab-5664-4911-86e8-ecc2809534fa",
   "metadata": {},
   "outputs": [],
   "source": [
    "login = driver.find_element(By.ID, \"login-button\")"
   ]
  },
  {
   "cell_type": "code",
   "execution_count": 15,
   "id": "b927fa4b-435a-45fe-96d9-d27d78d2a1ff",
   "metadata": {},
   "outputs": [],
   "source": [
    "login.click()"
   ]
  },
  {
   "cell_type": "markdown",
   "id": "8af80c0a-e373-4d95-91fb-e9780d4b735d",
   "metadata": {},
   "source": [
    "## EXTRACCION "
   ]
  },
  {
   "cell_type": "code",
   "execution_count": 16,
   "id": "6c71ac90-d7f1-44a9-b8fd-64c9451b91ae",
   "metadata": {},
   "outputs": [],
   "source": [
    "find_list_products = driver.find_elements(By.CLASS_NAME, 'inventory_item')"
   ]
  },
  {
   "cell_type": "code",
   "execution_count": 17,
   "id": "7921c9b7-4423-47ff-8748-1d4e0e0633d4",
   "metadata": {},
   "outputs": [],
   "source": [
    "data = []"
   ]
  },
  {
   "cell_type": "code",
   "execution_count": 18,
   "id": "e2807573-adca-414a-867a-d76d59f76242",
   "metadata": {},
   "outputs": [],
   "source": [
    "for product in find_list_products:\n",
    "    titulo_element = product.find_element(By.CLASS_NAME, 'inventory_item_name')\n",
    "    precio_element = product.find_element(By.CLASS_NAME, 'inventory_item_price')\n",
    "    img_element = product.find_element(By.TAG_NAME, 'img').get_attribute('src')\n",
    "    data.append({\n",
    "        'Titulo': titulo_element.text,\n",
    "        'Precio': precio_element.text,\n",
    "        'Imagen': img_element\n",
    "    })"
   ]
  },
  {
   "cell_type": "code",
   "execution_count": 19,
   "id": "cdb58296-079a-4f0b-b63d-37162480f4e8",
   "metadata": {},
   "outputs": [],
   "source": [
    "df = pd.DataFrame(data)\n",
    "df.to_csv('prueba.csv')\n"
   ]
  }
 ],
 "metadata": {
  "kernelspec": {
   "display_name": "Python 3 (ipykernel)",
   "language": "python",
   "name": "python3"
  },
  "language_info": {
   "codemirror_mode": {
    "name": "ipython",
    "version": 3
   },
   "file_extension": ".py",
   "mimetype": "text/x-python",
   "name": "python",
   "nbconvert_exporter": "python",
   "pygments_lexer": "ipython3",
   "version": "3.11.0"
  }
 },
 "nbformat": 4,
 "nbformat_minor": 5
}
